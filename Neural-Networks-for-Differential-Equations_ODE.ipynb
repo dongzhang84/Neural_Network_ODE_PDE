{
 "cells": [
  {
   "cell_type": "markdown",
   "metadata": {},
   "source": [
    "This practice followed the blog: https://becominghuman.ai/neural-networks-for-solving-differential-equations-fa230ac5e04c\n",
    "\n",
    "and the relevant paper:\n",
    "https://arxiv.org/pdf/physics/9705023.pdf"
   ]
  },
  {
   "cell_type": "code",
   "execution_count": 2,
   "metadata": {},
   "outputs": [],
   "source": [
    "import autograd.numpy as np\n",
    "from autograd import grad \n",
    "import autograd.numpy.random as npr\n",
    "\n",
    "from autograd.core import primitive\n",
    "\n",
    "from matplotlib import pyplot as plt\n",
    "%matplotlib inline"
   ]
  },
  {
   "cell_type": "code",
   "execution_count": 3,
   "metadata": {},
   "outputs": [],
   "source": [
    "nx = 10\n",
    "dx = 1. / nx"
   ]
  },
  {
   "cell_type": "code",
   "execution_count": 4,
   "metadata": {},
   "outputs": [],
   "source": [
    "def A(x):\n",
    "    '''\n",
    "        Left part of initial equation\n",
    "    '''\n",
    "    return x + (1. + 3.*x**2) / (1. + x + x**3)\n",
    "\n",
    "\n",
    "def B(x):\n",
    "    '''\n",
    "        Right part of initial equation\n",
    "    '''\n",
    "    return x**3 + 2.*x + x**2 * ((1. + 3.*x**2) / (1. + x + x**3))\n",
    "\n",
    "\n",
    "def f(x, psy):\n",
    "    '''\n",
    "        d(psy)/dx = f(x, psy)\n",
    "        This is f() function on the right\n",
    "    '''\n",
    "    return B(x) - psy * A(x)\n",
    "\n",
    "\n",
    "def psy_analytic(x):\n",
    "    '''\n",
    "        Analytical solution of current problem\n",
    "    '''\n",
    "    return (np.exp((-x**2)/2.)) / (1. + x + x**3) + x**2"
   ]
  },
  {
   "cell_type": "code",
   "execution_count": 11,
   "metadata": {},
   "outputs": [
    {
     "data": {
      "image/png": "[encoded data removed]",
      "text/plain": [
       "<Figure size 432x288 with 1 Axes>"
      ]
     },
     "metadata": {
      "needs_background": "light"
     },
     "output_type": "display_data"
    }
   ],
   "source": [
    "x_space = np.linspace(0, 1, nx) \n",
    "\n",
    "# Analytic solution\n",
    "y_space = psy_analytic(x_space)\n",
    "psy_fd = np.zeros_like(y_space)\n",
    "psy_fd[0] = 1.\n",
    "\n",
    "# Numerical solution\n",
    "for i in range(1, len(x_space)):\n",
    "    psy_fd[i] = psy_fd[i-1] + B(x_space[i]) * dx - psy_fd[i-1] * A(x_space[i]) * dx\n",
    "    \n",
    "plt.figure()\n",
    "plt.plot(x_space, y_space) \n",
    "plt.plot(x_space, psy_fd)\n",
    "plt.show()"
   ]
  },
  {
   "cell_type": "code",
   "execution_count": 12,
   "metadata": {},
   "outputs": [],
   "source": [
    "def sigmoid(x):\n",
    "    return 1 / (1 + np.exp(-x))\n",
    "\n",
    "\n",
    "def sigmoid_grad(x):\n",
    "    return sigmoid(x) * (1 - sigmoid(x))\n",
    "\n",
    "\n",
    "def neural_network(W, x):\n",
    "    a1 = sigmoid(np.dot(x, W[0]))\n",
    "    return np.dot(a1, W[1])\n",
    "\n",
    "\n",
    "def d_neural_network_dx(W, x, k=1):\n",
    "    return np.dot(np.dot(W[1].T, W[0].T**k), sigmoid_grad(x))"
   ]
  },
  {
   "cell_type": "code",
   "execution_count": 22,
   "metadata": {},
   "outputs": [
    {
     "name": "stdout",
     "output_type": "stream",
     "text": [
      "0.0635552986388517\n",
      "0.13742748841090843\n",
      "0.21038856352767668\n",
      "0.28161446175256044\n",
      "0.35043451641052054\n",
      "0.4163645443370504\n",
      "0.4791058939050459\n",
      "0.5385192390889346\n",
      "0.5945859193179471\n",
      "0.6473683105802438\n"
     ]
    }
   ],
   "source": [
    "# Test\n",
    "# W = [npr.randn(1, 10), npr.randn(10, 1)]\n",
    "\n",
    "\n",
    "# for xi in x_space:\n",
    "#     net_out = neural_network(W, xi)[0][0]\n",
    "#     print(net_out)"
   ]
  },
  {
   "cell_type": "code",
   "execution_count": 23,
   "metadata": {},
   "outputs": [],
   "source": [
    "def loss_function(W, x):\n",
    "    loss_sum = 0.\n",
    "    for xi in x:\n",
    "        net_out = neural_network(W, xi)[0][0]\n",
    "        psy_t = 1. + xi * net_out\n",
    "        d_net_out = d_neural_network_dx(W, xi)[0][0]\n",
    "        d_psy_t = net_out + xi * d_net_out\n",
    "        func = f(xi, psy_t)       \n",
    "        err_sqr = (d_psy_t - func)**2\n",
    "\n",
    "        loss_sum += err_sqr\n",
    "    return loss_sum"
   ]
  },
  {
   "cell_type": "code",
   "execution_count": 24,
   "metadata": {},
   "outputs": [
    {
     "name": "stdout",
     "output_type": "stream",
     "text": [
      "203.5728035064318\n",
      "2.219972676737418\n",
      "0.5964632605969163\n",
      "0.19825502789985827\n",
      "0.10188048119097945\n",
      "0.07830362585308023\n",
      "0.07205482678189305\n",
      "0.0699069185489789\n",
      "0.06873290182713951\n",
      "0.06779690503168366\n"
     ]
    }
   ],
   "source": [
    "W = [npr.randn(1, 10), npr.randn(10, 1)]\n",
    "lmb = 0.001\n",
    "\n",
    "# x = np.array(1)\n",
    "# print neural_network(W, x)\n",
    "# print d_neural_network_dx(W, x)\n",
    "\n",
    "for i in range(1000):\n",
    "    loss_grad =  grad(loss_function)(W, x_space)\n",
    "    \n",
    "#     print loss_grad[0].shape, W[0].shape\n",
    "#     print loss_grad[1].shape, W[1].shape\n",
    "    \n",
    "    W[0] = W[0] - lmb * loss_grad[0]\n",
    "    W[1] = W[1] - lmb * loss_grad[1]\n",
    "    \n",
    "    if i%100 == 0:\n",
    "        print(loss_function(W, x_space))"
   ]
  },
  {
   "cell_type": "code",
   "execution_count": 31,
   "metadata": {},
   "outputs": [
    {
     "data": {
      "image/png": "[encoded data removed]",
      "text/plain": [
       "<Figure size 432x288 with 1 Axes>"
      ]
     },
     "metadata": {
      "needs_background": "light"
     },
     "output_type": "display_data"
    }
   ],
   "source": [
    "# solution from NN\n",
    "\n",
    "res = [1 + xi * neural_network(W, xi)[0][0] for xi in x_space] \n",
    "\n",
    "plt.figure()\n",
    "plt.plot(x_space, y_space, label='y_space') \n",
    "plt.plot(x_space, psy_fd, label='psy_fd')\n",
    "plt.plot(x_space, res, label='res')\n",
    "plt.legend()\n",
    "plt.show()"
   ]
  },
  {
   "cell_type": "code",
   "execution_count": null,
   "metadata": {},
   "outputs": [],
   "source": []
  }
 ],
 "metadata": {
  "kernelspec": {
   "display_name": "Python 3",
   "language": "python",
   "name": "python3"
  },
  "language_info": {
   "codemirror_mode": {
    "name": "ipython",
    "version": 3
   },
   "file_extension": ".py",
   "mimetype": "text/x-python",
   "name": "python",
   "nbconvert_exporter": "python",
   "pygments_lexer": "ipython3",
   "version": "3.7.3"
  }
 },
 "nbformat": 4,
 "nbformat_minor": 4
}
