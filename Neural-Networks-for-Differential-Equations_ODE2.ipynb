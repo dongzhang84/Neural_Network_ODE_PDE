{
 "cells": [
  {
   "cell_type": "markdown",
   "metadata": {},
   "source": [
    "Continue the work:\n",
    "https://becominghuman.ai/neural-networks-for-solving-differential-equations-fa230ac5e04c"
   ]
  },
  {
   "cell_type": "code",
   "execution_count": 1,
   "metadata": {},
   "outputs": [],
   "source": [
    "import autograd.numpy as np\n",
    "from autograd import grad \n",
    "import autograd.numpy.random as npr\n",
    "\n",
    "from autograd.core import primitive\n",
    "\n",
    "from matplotlib import pyplot as plt\n",
    "%matplotlib inline"
   ]
  },
  {
   "cell_type": "code",
   "execution_count": 2,
   "metadata": {},
   "outputs": [],
   "source": [
    "nx = 10\n",
    "dx = 1. / nx"
   ]
  },
  {
   "cell_type": "code",
   "execution_count": 3,
   "metadata": {},
   "outputs": [],
   "source": [
    "def f(x, psy, dpsy):\n",
    "    '''\n",
    "        d2(psy)/dx2 = f(x, dpsy/dx, psy)\n",
    "        This is f() function on the right\n",
    "    '''\n",
    "    return -1./5. * np.exp(-x/5.) * np.cos(x) - 1./5. * dpsy - psy\n",
    "\n",
    "\n",
    "def psy_analytic(x):\n",
    "    '''\n",
    "        Analytical solution of current problem\n",
    "    '''\n",
    "    return np.exp(-x/5.) * np.sin(x)"
   ]
  },
  {
   "cell_type": "code",
   "execution_count": 4,
   "metadata": {},
   "outputs": [],
   "source": [
    "x_space = np.linspace(0, 2, nx)    \n",
    "y_space = psy_analytic(x_space)"
   ]
  },
  {
   "cell_type": "code",
   "execution_count": 5,
   "metadata": {},
   "outputs": [],
   "source": [
    "def sigmoid(x):\n",
    "    return 1. / (1. + np.exp(-x))\n",
    "\n",
    "def neural_network(W, x):\n",
    "    a1 = sigmoid(np.dot(x, W[0]))\n",
    "    return np.dot(a1, W[1])\n",
    "\n",
    "def neural_network_x(x):\n",
    "    a1 = sigmoid(np.dot(x, W[0]))\n",
    "    return np.dot(a1, W[1])\n",
    "\n",
    "def psy_trial(xi, net_out):\n",
    "    return xi + xi**2 * net_out\n",
    "\n",
    "psy_grad = grad(psy_trial)\n",
    "psy_grad2 = grad(psy_grad)"
   ]
  },
  {
   "cell_type": "code",
   "execution_count": 6,
   "metadata": {},
   "outputs": [],
   "source": [
    "def loss_function(W, x):\n",
    "    loss_sum = 0.\n",
    "    \n",
    "    for xi in x:\n",
    "        net_out = neural_network(W, xi)[0][0]\n",
    "\n",
    "        net_out_d = grad(neural_network_x)(xi)\n",
    "        net_out_dd = grad(grad(neural_network_x))(xi)\n",
    "        \n",
    "        psy_t = psy_trial(xi, net_out)\n",
    "        \n",
    "        gradient_of_trial = psy_grad(xi, net_out)\n",
    "        second_gradient_of_trial = psy_grad2(xi, net_out)\n",
    "        \n",
    "        func = f(xi, psy_t, gradient_of_trial) # right part function\n",
    "        \n",
    "        err_sqr = (second_gradient_of_trial - func)**2\n",
    "        loss_sum += err_sqr\n",
    "        \n",
    "    return loss_sum"
   ]
  },
  {
   "cell_type": "code",
   "execution_count": 7,
   "metadata": {},
   "outputs": [
    {
     "name": "stdout",
     "output_type": "stream",
     "text": [
      "[array([[ 2.29036158, -8.63806984,  2.76787349,  1.14842756,  1.87770375,\n",
      "         6.58257823,  2.08714763, -3.28071069, -2.29630207,  0.67024729]]), array([[-10.98563433],\n",
      "       [ -7.35576871],\n",
      "       [ -7.54649888],\n",
      "       [ -2.93011925],\n",
      "       [-11.58430526],\n",
      "       [ -6.44058086],\n",
      "       [ -3.90885604],\n",
      "       [ -3.18703049],\n",
      "       [-11.78355247],\n",
      "       [ -2.75107974]])]\n",
      "[array([[-0.27659308,  0.43356955, -0.13620405, -0.20733435, -0.29957414,\n",
      "        -0.35158549, -0.23820299,  0.53082021,  0.41234402, -0.13195974]]), array([[-0.06542498],\n",
      "       [-0.32392571],\n",
      "       [-0.31482369],\n",
      "       [-0.70714811],\n",
      "       [ 0.0187232 ],\n",
      "       [-0.37133986],\n",
      "       [-0.56459014],\n",
      "       [-0.66419334],\n",
      "       [ 0.05136247],\n",
      "       [-0.74167619]])]\n",
      "[array([[-0.24386048,  0.21345299, -0.06681252, -0.20294882, -0.28662528,\n",
      "        -0.18782012, -0.20418527,  0.50957152,  0.40444904, -0.131556  ]]), array([[-0.05342367],\n",
      "       [-0.23191937],\n",
      "       [-0.22692375],\n",
      "       [-0.52616149],\n",
      "       [ 0.02420374],\n",
      "       [-0.25522351],\n",
      "       [-0.39345026],\n",
      "       [-0.48671698],\n",
      "       [ 0.05357451],\n",
      "       [-0.56093811]])]\n",
      "[array([[-0.22069753,  0.06374709, -0.02011933, -0.19853797, -0.2765071 ,\n",
      "        -0.07683669, -0.17995667,  0.49316832,  0.39612086, -0.13026103]]), array([[-0.04503786],\n",
      "       [-0.16815399],\n",
      "       [-0.16659282],\n",
      "       [-0.40102231],\n",
      "       [ 0.02789618],\n",
      "       [-0.17598416],\n",
      "       [-0.27594713],\n",
      "       [-0.36474413],\n",
      "       [ 0.05431968],\n",
      "       [-0.43580706]])]\n",
      "[array([[-0.20401433, -0.03748377,  0.01120558, -0.19416862, -0.2682884 ,\n",
      "        -0.00201969, -0.16242177,  0.47994868,  0.38765031, -0.1284148 ]]), array([[-0.03908029],\n",
      "       [-0.12412892],\n",
      "       [-0.12504064],\n",
      "       [-0.31421476],\n",
      "       [ 0.03038956],\n",
      "       [-0.12174898],\n",
      "       [-0.19520109],\n",
      "       [-0.28084425],\n",
      "       [ 0.05411751],\n",
      "       [-0.3488451 ]])]\n"
     ]
    }
   ],
   "source": [
    "W = [npr.randn(1, 10), npr.randn(10, 1)]\n",
    "lmb = 0.001\n",
    "\n",
    "for i in range(50):\n",
    "    loss_grad =  grad(loss_function)(W, x_space)\n",
    "    if i%10 == 0: print(loss_grad)\n",
    "\n",
    "    W[0] = W[0] - lmb * loss_grad[0]\n",
    "    W[1] = W[1] - lmb * loss_grad[1]"
   ]
  },
  {
   "cell_type": "code",
   "execution_count": 8,
   "metadata": {},
   "outputs": [
    {
     "name": "stdout",
     "output_type": "stream",
     "text": [
      "0.19382735696203401\n"
     ]
    },
    {
     "data": {
      "image/png": "[encoded data removed]",
      "text/plain": [
       "<Figure size 432x288 with 1 Axes>"
      ]
     },
     "metadata": {
      "needs_background": "light"
     },
     "output_type": "display_data"
    }
   ],
   "source": [
    "print(loss_function(W, x_space))\n",
    "res = [psy_trial(xi, neural_network(W, xi)[0][0]) for xi in x_space] \n",
    "\n",
    "\n",
    "plt.figure()\n",
    "plt.plot(x_space, y_space) \n",
    "plt.plot(x_space, res)\n",
    "plt.show()"
   ]
  },
  {
   "cell_type": "code",
   "execution_count": 10,
   "metadata": {},
   "outputs": [
    {
     "name": "stdout",
     "output_type": "stream",
     "text": [
      "[array([[-22.35099166, -11.22651911, -12.10835581,  -1.20790237,\n",
      "          2.42002418,   3.26681164,  -6.89869373,  29.65592656,\n",
      "         -2.76470772,  20.2562033 ]]), array([[23.88932648],\n",
      "       [13.5355559 ],\n",
      "       [28.19403353],\n",
      "       [24.57789866],\n",
      "       [24.12064413],\n",
      "       [33.08449933],\n",
      "       [15.3381369 ],\n",
      "       [19.71170484],\n",
      "       [30.18900178],\n",
      "       [22.01865682]])]\n",
      "[array([[-3.38006441, -1.81868976, -2.13113823, -0.2134834 ,  0.33526637,\n",
      "         0.73880944, -1.07319027,  4.21154093, -0.56060888,  2.9078938 ]]), array([[4.6192324 ],\n",
      "       [3.098053  ],\n",
      "       [5.31679162],\n",
      "       [4.72416876],\n",
      "       [4.65501192],\n",
      "       [6.28302593],\n",
      "       [3.37531563],\n",
      "       [4.02075805],\n",
      "       [5.67749078],\n",
      "       [4.34925173]])]\n",
      "[array([[-0.11813615, -0.17825085, -0.37942104, -0.0119718 ,  0.01380836,\n",
      "         0.2894796 , -0.04968379, -0.0479356 , -0.1488699 ,  0.01365873]]), array([[1.04541447],\n",
      "       [1.01808365],\n",
      "       [1.11737842],\n",
      "       [1.05054244],\n",
      "       [1.04731232],\n",
      "       [1.39522218],\n",
      "       [1.03761911],\n",
      "       [1.0426972 ],\n",
      "       [1.1967715 ],\n",
      "       [1.0408592 ]])]\n",
      "[array([[ 0.34140726,  0.06024302, -0.10857453,  0.01803656, -0.0290181 ,\n",
      "         0.20163913,  0.09538278, -0.61679057, -0.07958201, -0.37337768]]), array([[0.32595474],\n",
      "       [0.50097284],\n",
      "       [0.30430198],\n",
      "       [0.31454302],\n",
      "       [0.32012693],\n",
      "       [0.46386438],\n",
      "       [0.48413202],\n",
      "       [0.39589515],\n",
      "       [0.33867423],\n",
      "       [0.35173708]])]\n",
      "[array([[ 0.32512427,  0.05887122, -0.09513912,  0.01727738, -0.02704948,\n",
      "         0.18078272,  0.09007   , -0.57402566, -0.07187677, -0.34621131]]), array([[0.1452588 ],\n",
      "       [0.30849164],\n",
      "       [0.12304543],\n",
      "       [0.13376635],\n",
      "       [0.13894169],\n",
      "       [0.26579208],\n",
      "       [0.29255489],\n",
      "       [0.20794651],\n",
      "       [0.15375841],\n",
      "       [0.16760676]])]\n",
      "0.21255203857086807\n"
     ]
    },
    {
     "data": {
      "image/png": "[encoded data removed]",
      "text/plain": [
       "<Figure size 432x288 with 1 Axes>"
      ]
     },
     "metadata": {
      "needs_background": "light"
     },
     "output_type": "display_data"
    }
   ],
   "source": [
    "nx = 10\n",
    "dx = 1. / nx\n",
    "\n",
    "def f(x, psy, dpsy):\n",
    "    '''\n",
    "        d2(psy)/dx2 = f(x, dpsy/dx, psy)\n",
    "        This is f() function on the right\n",
    "    '''\n",
    "    return -1./5. * np.exp(-x/5.) * np.cos(x) - 1./5. * dpsy - psy\n",
    "\n",
    "\n",
    "def psy_analytic(x):\n",
    "    '''\n",
    "        Analytical solution of current problem\n",
    "    '''\n",
    "    return np.exp(-x/5.) * np.sin(x)\n",
    "\n",
    "\n",
    "x_space = np.linspace(0, 2, nx)    \n",
    "y_space = psy_analytic(x_space)\n",
    "\n",
    "\n",
    "def sigmoid(x):\n",
    "    return 1. / (1. + np.exp(-x))\n",
    "\n",
    "def neural_network(W, x):\n",
    "    a1 = sigmoid(np.dot(x, W[0]))\n",
    "    return np.dot(a1, W[1])\n",
    "\n",
    "def neural_network_x(x):\n",
    "    a1 = sigmoid(np.dot(x, W[0]))\n",
    "    return np.dot(a1, W[1])\n",
    "\n",
    "def psy_trial(xi, net_out):\n",
    "    return xi + xi**2 * net_out\n",
    "\n",
    "psy_grad = grad(psy_trial)\n",
    "psy_grad2 = grad(psy_grad)\n",
    "\n",
    "\n",
    "def loss_function(W, x):\n",
    "    loss_sum = 0.\n",
    "    \n",
    "    for xi in x:\n",
    "        net_out = neural_network(W, xi)[0][0]\n",
    "\n",
    "        net_out_d = grad(neural_network_x)(xi)\n",
    "        net_out_dd = grad(grad(neural_network_x))(xi)\n",
    "        \n",
    "        psy_t = psy_trial(xi, net_out)\n",
    "        \n",
    "        gradient_of_trial = psy_grad(xi, net_out)\n",
    "        second_gradient_of_trial = psy_grad2(xi, net_out)\n",
    "        \n",
    "        func = f(xi, psy_t, gradient_of_trial) # right part function\n",
    "        \n",
    "        err_sqr = (second_gradient_of_trial - func)**2\n",
    "        loss_sum += err_sqr\n",
    "        \n",
    "    return loss_sum\n",
    "\n",
    "\n",
    "W = [npr.randn(1, 10), npr.randn(10, 1)]\n",
    "lmb = 0.001\n",
    "\n",
    "for i in range(50):\n",
    "    loss_grad =  grad(loss_function)(W, x_space)\n",
    "    if i%10 == 0: print(loss_grad)\n",
    "\n",
    "    W[0] = W[0] - lmb * loss_grad[0]\n",
    "    W[1] = W[1] - lmb * loss_grad[1]\n",
    "\n",
    "\n",
    "print(loss_function(W, x_space))\n",
    "res = [psy_trial(xi, neural_network(W, xi)[0][0]) for xi in x_space] \n",
    "\n",
    "\n",
    "plt.figure()\n",
    "plt.plot(x_space, y_space) \n",
    "plt.plot(x_space, res)\n",
    "plt.show()"
   ]
  },
  {
   "cell_type": "code",
   "execution_count": null,
   "metadata": {},
   "outputs": [],
   "source": []
  }
 ],
 "metadata": {
  "kernelspec": {
   "display_name": "Python 3",
   "language": "python",
   "name": "python3"
  },
  "language_info": {
   "codemirror_mode": {
    "name": "ipython",
    "version": 3
   },
   "file_extension": ".py",
   "mimetype": "text/x-python",
   "name": "python",
   "nbconvert_exporter": "python",
   "pygments_lexer": "ipython3",
   "version": "3.7.3"
  }
 },
 "nbformat": 4,
 "nbformat_minor": 4
}
