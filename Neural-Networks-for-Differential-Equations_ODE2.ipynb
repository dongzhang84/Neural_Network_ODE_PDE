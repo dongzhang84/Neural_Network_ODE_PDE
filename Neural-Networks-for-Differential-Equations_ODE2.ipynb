{
 "cells": [
  {
   "cell_type": "markdown",
   "metadata": {},
   "source": [
    "Continue the work:\n",
    "https://becominghuman.ai/neural-networks-for-solving-differential-equations-fa230ac5e04c"
   ]
  },
  {
   "cell_type": "code",
   "execution_count": 1,
   "metadata": {},
   "outputs": [],
   "source": [
    "import autograd.numpy as np\n",
    "from autograd import grad \n",
    "import autograd.numpy.random as npr\n",
    "\n",
    "from autograd.core import primitive\n",
    "\n",
    "from matplotlib import pyplot as plt\n",
    "%matplotlib inline"
   ]
  },
  {
   "cell_type": "code",
   "execution_count": 2,
   "metadata": {},
   "outputs": [],
   "source": [
    "nx = 10\n",
    "dx = 1. / nx"
   ]
  },
  {
   "cell_type": "code",
   "execution_count": 3,
   "metadata": {},
   "outputs": [],
   "source": [
    "def f(x, psy, dpsy):\n",
    "    '''\n",
    "        d2(psy)/dx2 = f(x, dpsy/dx, psy)\n",
    "        This is f() function on the right\n",
    "    '''\n",
    "    return -1./5. * np.exp(-x/5.) * np.cos(x) - 1./5. * dpsy - psy\n",
    "\n",
    "\n",
    "def psy_analytic(x):\n",
    "    '''\n",
    "        Analytical solution of current problem\n",
    "    '''\n",
    "    return np.exp(-x/5.) * np.sin(x)"
   ]
  },
  {
   "cell_type": "code",
   "execution_count": 4,
   "metadata": {},
   "outputs": [],
   "source": [
    "x_space = np.linspace(0, 2, nx)    \n",
    "y_space = psy_analytic(x_space)"
   ]
  },
  {
   "cell_type": "code",
   "execution_count": 5,
   "metadata": {},
   "outputs": [],
   "source": [
    "def sigmoid(x):\n",
    "    return 1. / (1. + np.exp(-x))\n",
    "\n",
    "def neural_network(W, x):\n",
    "    a1 = sigmoid(np.dot(x, W[0]))\n",
    "    return np.dot(a1, W[1])\n",
    "\n",
    "def neural_network_x(x):\n",
    "    a1 = sigmoid(np.dot(x, W[0]))\n",
    "    return np.dot(a1, W[1])\n",
    "\n",
    "def psy_trial(xi, net_out):\n",
    "    return xi + xi**2 * net_out\n",
    "\n",
    "psy_grad = grad(psy_trial)\n",
    "psy_grad2 = grad(psy_grad)"
   ]
  },
  {
   "cell_type": "code",
   "execution_count": 6,
   "metadata": {},
   "outputs": [],
   "source": [
    "def loss_function(W, x):\n",
    "    loss_sum = 0.\n",
    "    \n",
    "    for xi in x:\n",
    "        net_out = neural_network(W, xi)[0][0]\n",
    "\n",
    "        net_out_d = grad(neural_network_x)(xi)\n",
    "        net_out_dd = grad(grad(neural_network_x))(xi)\n",
    "        \n",
    "        psy_t = psy_trial(xi, net_out)\n",
    "        \n",
    "        gradient_of_trial = psy_grad(xi, net_out)\n",
    "        second_gradient_of_trial = psy_grad2(xi, net_out)\n",
    "        \n",
    "        func = f(xi, psy_t, gradient_of_trial) # right part function\n",
    "        \n",
    "        err_sqr = (second_gradient_of_trial - func)**2\n",
    "        loss_sum += err_sqr\n",
    "        \n",
    "    return loss_sum"
   ]
  },
  {
   "cell_type": "code",
   "execution_count": 8,
   "metadata": {},
   "outputs": [
    {
     "name": "stdout",
     "output_type": "stream",
     "text": [
      "[array([[ 78.56987749, -18.57152432, -96.32165086,  63.82061846,\n",
      "        123.11848858,   7.04333502,  52.6701708 , -32.9143322 ,\n",
      "         55.66644683, -49.26504523]]), array([[ -67.64545455],\n",
      "       [-197.38125723],\n",
      "       [-122.2902921 ],\n",
      "       [-167.97906128],\n",
      "       [-136.53623235],\n",
      "       [-157.75443648],\n",
      "       [ -46.17494243],\n",
      "       [ -58.98571974],\n",
      "       [ -75.70501407],\n",
      "       [ -67.33268615]])]\n",
      "[array([[-2.62142461, -0.14312934,  4.4224367 , -1.97913898, -4.83536652,\n",
      "         0.0066143 , -1.25867032,  1.33174774, -1.89375534,  2.09645686]]), array([[-4.34937246],\n",
      "       [ 0.35566374],\n",
      "       [-1.94674865],\n",
      "       [-0.26083813],\n",
      "       [-1.5222876 ],\n",
      "       [-0.59269267],\n",
      "       [-5.02353739],\n",
      "       [-4.57548107],\n",
      "       [-4.0227866 ],\n",
      "       [-4.2636983 ]])]\n",
      "[array([[-1.9116868 ,  0.09915616,  3.09360018, -1.48855604, -3.24864027,\n",
      "         0.01343854, -1.06646321,  1.0498683 , -1.30587208,  1.56026148]]), array([[-3.04454217],\n",
      "       [ 0.38529874],\n",
      "       [-1.49988257],\n",
      "       [-0.19152549],\n",
      "       [-1.03740994],\n",
      "       [-0.46382709],\n",
      "       [-3.597491  ],\n",
      "       [-3.2674952 ],\n",
      "       [-2.81572047],\n",
      "       [-3.04986896]])]\n",
      "[array([[-1.39612731,  0.26691363,  2.10519381, -1.16392015, -2.20180403,\n",
      "         0.01508929, -0.92094036,  0.8376241 , -0.90407234,  1.17380522]]), array([[-2.14305952],\n",
      "       [ 0.39442053],\n",
      "       [-1.14229695],\n",
      "       [-0.15784055],\n",
      "       [-0.74944367],\n",
      "       [-0.380204  ],\n",
      "       [-2.59403594],\n",
      "       [-2.34230958],\n",
      "       [-1.98287366],\n",
      "       [-2.18417196]])]\n",
      "[array([[-1.02469873,  0.38278697,  1.38404638, -0.94526987, -1.4983474 ,\n",
      "         0.0145785 , -0.81147469,  0.68175499, -0.62757065,  0.89773689]]), array([[-1.51477002],\n",
      "       [ 0.39491081],\n",
      "       [-0.86652466],\n",
      "       [-0.14005201],\n",
      "       [-0.5695327 ],\n",
      "       [-0.32329182],\n",
      "       [-1.88437829],\n",
      "       [-1.68564558],\n",
      "       [-1.40229329],\n",
      "       [-1.56620736]])]\n"
     ]
    }
   ],
   "source": [
    "W = [npr.randn(1, 10), npr.randn(10, 1)]\n",
    "lmb = 0.001\n",
    "\n",
    "for i in range(50):\n",
    "    loss_grad =  grad(loss_function)(W, x_space)\n",
    "    if i%10 == 0: print(loss_grad)\n",
    "\n",
    "    W[0] = W[0] - lmb * loss_grad[0]\n",
    "    W[1] = W[1] - lmb * loss_grad[1]"
   ]
  },
  {
   "cell_type": "code",
   "execution_count": 10,
   "metadata": {},
   "outputs": [
    {
     "name": "stdout",
     "output_type": "stream",
     "text": [
      "0.9108929037800448\n"
     ]
    },
    {
     "data": {
      "image/png": "[encoded data removed]",
      "text/plain": [
       "<Figure size 432x288 with 1 Axes>"
      ]
     },
     "metadata": {
      "needs_background": "light"
     },
     "output_type": "display_data"
    }
   ],
   "source": [
    "print(loss_function(W, x_space))\n",
    "res = [psy_trial(xi, neural_network(W, xi)[0][0]) for xi in x_space] \n",
    "\n",
    "\n",
    "plt.figure()\n",
    "plt.plot(x_space, y_space) \n",
    "plt.plot(x_space, res)\n",
    "plt.show()"
   ]
  },
  {
   "cell_type": "code",
   "execution_count": null,
   "metadata": {},
   "outputs": [],
   "source": []
  }
 ],
 "metadata": {
  "kernelspec": {
   "display_name": "Python 3",
   "language": "python",
   "name": "python3"
  },
  "language_info": {
   "codemirror_mode": {
    "name": "ipython",
    "version": 3
   },
   "file_extension": ".py",
   "mimetype": "text/x-python",
   "name": "python",
   "nbconvert_exporter": "python",
   "pygments_lexer": "ipython3",
   "version": "3.7.3"
  }
 },
 "nbformat": 4,
 "nbformat_minor": 4
}
