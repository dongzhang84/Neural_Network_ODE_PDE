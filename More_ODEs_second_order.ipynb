{
 "cells": [
  {
   "cell_type": "markdown",
   "metadata": {},
   "source": [
    "Use the method here: not working:\n",
    "https://becominghuman.ai/neural-networks-for-solving-differential-equations-fa230ac5e04c"
   ]
  },
  {
   "cell_type": "code",
   "execution_count": 1,
   "metadata": {},
   "outputs": [],
   "source": [
    "import autograd.numpy as np\n",
    "from autograd import grad \n",
    "import autograd.numpy.random as npr\n",
    "\n",
    "from autograd.core import primitive\n",
    "\n",
    "from matplotlib import pyplot as plt\n",
    "%matplotlib inline"
   ]
  },
  {
   "cell_type": "code",
   "execution_count": 2,
   "metadata": {},
   "outputs": [],
   "source": [
    "nx = 20\n",
    "dx = 1. / nx\n",
    "alpha = 1.0"
   ]
  },
  {
   "cell_type": "code",
   "execution_count": 3,
   "metadata": {},
   "outputs": [],
   "source": [
    "def f(x, alpha, psy1, dpsy1):\n",
    "    '''\n",
    "        d2(psy)/dx2 = f(x, dpsy/dx, psy)\n",
    "        This is f() function on the right\n",
    "    '''\n",
    "    return  - alpha * dpsy1\n",
    "\n",
    "\n",
    "def psy1_analytic(x, alpha):\n",
    "    '''\n",
    "        Analytical solution of current problem\n",
    "    '''\n",
    "    return (1. - np.exp(-alpha*x))/alpha"
   ]
  },
  {
   "cell_type": "code",
   "execution_count": 4,
   "metadata": {},
   "outputs": [],
   "source": [
    "#def f(x, alpha, psy1, dpsy1):\n",
    "\n",
    "    #return -alpha/5. * np.exp(-x/5.) * np.cos(x) - 1./5. * dpsy1 - psy1\n",
    "\n",
    "\n",
    "#def psy1_analytic(x, alpha):\n",
    "\n",
    "    #return np.exp(-x/5.) * np.sin(x)/alpha"
   ]
  },
  {
   "cell_type": "code",
   "execution_count": 5,
   "metadata": {},
   "outputs": [],
   "source": [
    "x_space = np.linspace(0, 2, nx)    \n",
    "y_space = psy1_analytic(x_space, alpha)"
   ]
  },
  {
   "cell_type": "code",
   "execution_count": 6,
   "metadata": {},
   "outputs": [],
   "source": [
    "def sigmoid(x):\n",
    "    return 1. / (1. + np.exp(-x))\n",
    "\n",
    "def neural_network(W, x):\n",
    "    a1 = sigmoid(np.dot(x, W[0]))\n",
    "    return np.dot(a1, W[1])\n",
    "\n",
    "def neural_network_x(x):\n",
    "    a1 = sigmoid(np.dot(x, W[0]))\n",
    "    return np.dot(a1, W[1])\n",
    "\n",
    "def psy1_trial(xi, net_out):\n",
    "    return xi + xi**2 * net_out\n",
    "\n",
    "psy1_grad = grad(psy1_trial)\n",
    "psy1_grad2 = grad(psy1_grad)"
   ]
  },
  {
   "cell_type": "code",
   "execution_count": 7,
   "metadata": {},
   "outputs": [],
   "source": [
    "def loss_function(W, alpha, x):\n",
    "    loss_sum = 0.\n",
    "    \n",
    "    for xi in x:\n",
    "        net_out = neural_network(W, xi)[0][0]\n",
    "\n",
    "        net_out_d = grad(neural_network_x)(xi)\n",
    "        net_out_dd = grad(grad(neural_network_x))(xi)\n",
    "        \n",
    "        psy1_t = psy1_trial(xi, net_out)\n",
    "        \n",
    "        gradient_of_trial = psy1_grad(xi, net_out)\n",
    "        second_gradient_of_trial = psy1_grad2(xi, net_out)\n",
    "        \n",
    "        func = f(xi, alpha, psy1_t, gradient_of_trial) # right part function\n",
    "        \n",
    "        err_sqr = (second_gradient_of_trial - func)**2\n",
    "        loss_sum += err_sqr\n",
    "        \n",
    "    return loss_sum"
   ]
  },
  {
   "cell_type": "code",
   "execution_count": 8,
   "metadata": {},
   "outputs": [],
   "source": [
    "W = [npr.randn(1, 10), npr.randn(10, 1)]\n",
    "lmb = 0.001\n",
    "\n",
    "for i in range(500):\n",
    "    loss_grad =  grad(loss_function)(W, alpha, x_space)\n",
    "    #if i%10 == 0: print(loss_grad)\n",
    "\n",
    "    W[0] = W[0] - lmb * loss_grad[0]\n",
    "    W[1] = W[1] - lmb * loss_grad[1]"
   ]
  },
  {
   "cell_type": "code",
   "execution_count": 9,
   "metadata": {},
   "outputs": [
    {
     "name": "stdout",
     "output_type": "stream",
     "text": [
      "0.02507307877553447\n"
     ]
    },
    {
     "data": {
      "image/png": "[encoded data removed]",
      "text/plain": [
       "<Figure size 432x288 with 1 Axes>"
      ]
     },
     "metadata": {
      "needs_background": "light"
     },
     "output_type": "display_data"
    }
   ],
   "source": [
    "print(loss_function(W, alpha, x_space))\n",
    "res = [psy1_trial(xi, neural_network(W, xi)[0][0]) for xi in x_space] \n",
    "\n",
    "\n",
    "plt.figure()\n",
    "plt.plot(x_space, y_space) \n",
    "plt.plot(x_space, res)\n",
    "plt.show()"
   ]
  },
  {
   "cell_type": "markdown",
   "metadata": {},
   "source": [
    "## Another Test"
   ]
  },
  {
   "cell_type": "code",
   "execution_count": 19,
   "metadata": {},
   "outputs": [
    {
     "name": "stdout",
     "output_type": "stream",
     "text": [
      "[array([[ 38.03259756, -27.08029996,  18.08222102, -96.20250013,\n",
      "         18.64345775, -48.1644429 ,   6.08571858,  32.79538088,\n",
      "         52.60887026, -31.630533  ]]), array([[ 96.84079876],\n",
      "       [ 56.74467767],\n",
      "       [ 43.39084721],\n",
      "       [109.69896572],\n",
      "       [159.02921841],\n",
      "       [138.63810055],\n",
      "       [ 29.30516506],\n",
      "       [156.70836229],\n",
      "       [ 78.46820588],\n",
      "       [ 69.75983219]])]\n",
      "[array([[-0.85267619,  0.60147234, -0.1445798 ,  2.66306823,  0.01619769,\n",
      "         0.85144305,  0.02577498, -0.06845765, -1.17967151,  0.88058347]]), array([[ 0.89455669],\n",
      "       [ 1.86119392],\n",
      "       [ 2.06817703],\n",
      "       [ 0.53160703],\n",
      "       [-0.28998539],\n",
      "       [-0.11973634],\n",
      "       [ 2.10649388],\n",
      "       [-0.28827356],\n",
      "       [ 1.38645497],\n",
      "       [ 1.58598855]])]\n",
      "[array([[-0.41125034,  0.29795442, -0.0622531 ,  1.35442537,  0.01326063,\n",
      "         0.42075269,  0.01160249, -0.02303549, -0.57484772,  0.44083525]]), array([[ 0.43274466],\n",
      "       [ 0.92329455],\n",
      "       [ 1.01780258],\n",
      "       [ 0.29511456],\n",
      "       [-0.13353465],\n",
      "       [-0.05098085],\n",
      "       [ 1.03247178],\n",
      "       [-0.13358796],\n",
      "       [ 0.67362131],\n",
      "       [ 0.79346658]])]\n",
      "[array([[-0.20136923,  0.14270658, -0.02587918,  0.67920448,  0.01107199,\n",
      "         0.19957522,  0.00587909, -0.00216165, -0.28168829,  0.21679185]]), array([[ 0.20874671],\n",
      "       [ 0.45291052],\n",
      "       [ 0.49545106],\n",
      "       [ 0.15106278],\n",
      "       [-0.06047995],\n",
      "       [-0.02420783],\n",
      "       [ 0.49872257],\n",
      "       [-0.06126074],\n",
      "       [ 0.32742217],\n",
      "       [ 0.39145099]])]\n",
      "[array([[-0.10053499,  0.06553346, -0.00914799,  0.34209693,  0.00974871,\n",
      "         0.08931606,  0.00338282,  0.0075735 , -0.13956692,  0.10554754]]), array([[ 0.10008886],\n",
      "       [ 0.22097053],\n",
      "       [ 0.23893536],\n",
      "       [ 0.07380446],\n",
      "       [-0.02573094],\n",
      "       [-0.0127802 ],\n",
      "       [ 0.23676503],\n",
      "       [-0.02682514],\n",
      "       [ 0.15938866],\n",
      "       [ 0.19214037]])]\n",
      "0.011021131363397541\n"
     ]
    },
    {
     "data": {
      "image/png": "[encoded data removed]",
      "text/plain": [
       "<Figure size 432x288 with 1 Axes>"
      ]
     },
     "metadata": {
      "needs_background": "light"
     },
     "output_type": "display_data"
    }
   ],
   "source": [
    "nx = 10\n",
    "dx = 1. / nx\n",
    "\n",
    "def f(x, psy, dpsy):\n",
    "    '''\n",
    "        d2(psy)/dx2 = f(x, dpsy/dx, psy)\n",
    "        This is f() function on the right\n",
    "    '''\n",
    "    return -dpsy\n",
    "\n",
    "\n",
    "def psy_analytic(x):\n",
    "    '''\n",
    "        Analytical solution of current problem\n",
    "    '''\n",
    "    return 1 - np.exp(-x)\n",
    "\n",
    "\n",
    "x_space = np.linspace(0, 2, nx)    \n",
    "y_space = psy_analytic(x_space)\n",
    "\n",
    "\n",
    "def sigmoid(x):\n",
    "    return 1. / (1. + np.exp(-x))\n",
    "\n",
    "def neural_network(W, x):\n",
    "    a1 = sigmoid(np.dot(x, W[0]))\n",
    "    return np.dot(a1, W[1])\n",
    "\n",
    "def neural_network_x(x):\n",
    "    a1 = sigmoid(np.dot(x, W[0]))\n",
    "    return np.dot(a1, W[1])\n",
    "\n",
    "def psy_trial(xi, net_out):\n",
    "    return xi + xi**2 * net_out\n",
    "\n",
    "psy_grad = grad(psy_trial)\n",
    "psy_grad2 = grad(psy_grad)\n",
    "\n",
    "\n",
    "def loss_function(W, x):\n",
    "    loss_sum = 0.\n",
    "    \n",
    "    for xi in x:\n",
    "        net_out = neural_network(W, xi)[0][0]\n",
    "\n",
    "        net_out_d = grad(neural_network_x)(xi)\n",
    "        net_out_dd = grad(grad(neural_network_x))(xi)\n",
    "        \n",
    "        psy_t = psy_trial(xi, net_out)\n",
    "        \n",
    "        gradient_of_trial = psy_grad(xi, net_out)\n",
    "        second_gradient_of_trial = psy_grad2(xi, net_out)\n",
    "        \n",
    "        func = f(xi, psy_t, gradient_of_trial) # right part function\n",
    "        \n",
    "        err_sqr = (second_gradient_of_trial - func)**2\n",
    "        loss_sum += err_sqr\n",
    "        \n",
    "    return loss_sum\n",
    "\n",
    "\n",
    "W = [npr.randn(1, 10), npr.randn(10, 1)]\n",
    "lmb = 0.001\n",
    "\n",
    "for i in range(100):\n",
    "    loss_grad =  grad(loss_function)(W, x_space)\n",
    "    if i%20 == 0: print(loss_grad)\n",
    "\n",
    "    W[0] = W[0] - lmb * loss_grad[0]\n",
    "    W[1] = W[1] - lmb * loss_grad[1]\n",
    "\n",
    "\n",
    "print(loss_function(W, x_space))\n",
    "res = [psy_trial(xi, neural_network(W, xi)[0][0]) for xi in x_space] \n",
    "\n",
    "\n",
    "plt.figure()\n",
    "plt.plot(x_space, y_space) \n",
    "plt.plot(x_space, res)\n",
    "plt.show()"
   ]
  },
  {
   "cell_type": "code",
   "execution_count": 22,
   "metadata": {},
   "outputs": [
    {
     "name": "stdout",
     "output_type": "stream",
     "text": [
      "[array([[ 174.26578814, 1682.20240464, 1073.03063022,  343.436212  ,\n",
      "         240.37631015, -246.08929965,  369.04796994, -765.14426189,\n",
      "        -294.0926166 , -240.89346522]]), array([[2717.99442841],\n",
      "       [1479.20265432],\n",
      "       [ 886.24284112],\n",
      "       [ 739.83934455],\n",
      "       [2590.34468319],\n",
      "       [1890.22954145],\n",
      "       [1977.44446072],\n",
      "       [1719.08764221],\n",
      "       [2421.11874963],\n",
      "       [1684.34683841]])]\n",
      "173.90411909394206\n"
     ]
    },
    {
     "data": {
      "image/png": "[encoded data removed]",
      "text/plain": [
       "<Figure size 432x288 with 1 Axes>"
      ]
     },
     "metadata": {
      "needs_background": "light"
     },
     "output_type": "display_data"
    }
   ],
   "source": [
    "nx = 50\n",
    "dx = 1. / nx\n",
    "\n",
    "def f(x, psy, dpsy):\n",
    "    '''\n",
    "        d2(psy)/dx2 = f(x, dpsy/dx, psy)\n",
    "        This is f() function on the right\n",
    "    '''\n",
    "    return -dpsy - 1 \n",
    "\n",
    "\n",
    "def psy_analytic(x):\n",
    "    '''\n",
    "        Analytical solution of current problem\n",
    "    '''\n",
    "    return 2. * (1 - np.exp(-x)) - x\n",
    "\n",
    "\n",
    "x_space = np.linspace(0, 2, nx)    \n",
    "y_space = psy_analytic(x_space)\n",
    "\n",
    "\n",
    "def sigmoid(x):\n",
    "    return 1. / (1. + np.exp(-x))\n",
    "\n",
    "def neural_network(W, x):\n",
    "    a1 = sigmoid(np.dot(x, W[0]))\n",
    "    return np.dot(a1, W[1])\n",
    "\n",
    "def neural_network_x(x):\n",
    "    a1 = sigmoid(np.dot(x, W[0]))\n",
    "    return np.dot(a1, W[1])\n",
    "\n",
    "def psy_trial(xi, net_out):\n",
    "    return xi + xi**2 * net_out\n",
    "\n",
    "psy_grad = grad(psy_trial)\n",
    "psy_grad2 = grad(psy_grad)\n",
    "\n",
    "\n",
    "def loss_function(W, x):\n",
    "    loss_sum = 0.\n",
    "    \n",
    "    for xi in x:\n",
    "        net_out = neural_network(W, xi)[0][0]\n",
    "\n",
    "        net_out_d = grad(neural_network_x)(xi)\n",
    "        net_out_dd = grad(grad(neural_network_x))(xi)\n",
    "        \n",
    "        psy_t = psy_trial(xi, net_out)\n",
    "        \n",
    "        gradient_of_trial = psy_grad(xi, net_out)\n",
    "        second_gradient_of_trial = psy_grad2(xi, net_out)\n",
    "        \n",
    "        func = f(xi, psy_t, gradient_of_trial) # right part function\n",
    "        \n",
    "        err_sqr = (second_gradient_of_trial - func)**2\n",
    "        loss_sum += err_sqr\n",
    "        \n",
    "    return loss_sum\n",
    "\n",
    "\n",
    "W = [npr.randn(1, 10), npr.randn(10, 1)]\n",
    "lmb = 0.001\n",
    "\n",
    "for i in range(100):\n",
    "    loss_grad =  grad(loss_function)(W, x_space)\n",
    "    if i%100 == 0: print(loss_grad)\n",
    "\n",
    "    W[0] = W[0] - lmb * loss_grad[0]\n",
    "    W[1] = W[1] - lmb * loss_grad[1]\n",
    "\n",
    "\n",
    "print(loss_function(W, x_space))\n",
    "res = [psy_trial(xi, neural_network(W, xi)[0][0]) for xi in x_space] \n",
    "\n",
    "\n",
    "plt.figure()\n",
    "plt.plot(x_space, y_space) \n",
    "plt.plot(x_space, res)\n",
    "plt.show()"
   ]
  },
  {
   "cell_type": "code",
   "execution_count": null,
   "metadata": {},
   "outputs": [],
   "source": []
  }
 ],
 "metadata": {
  "kernelspec": {
   "display_name": "Python 3",
   "language": "python",
   "name": "python3"
  },
  "language_info": {
   "codemirror_mode": {
    "name": "ipython",
    "version": 3
   },
   "file_extension": ".py",
   "mimetype": "text/x-python",
   "name": "python",
   "nbconvert_exporter": "python",
   "pygments_lexer": "ipython3",
   "version": "3.7.3"
  }
 },
 "nbformat": 4,
 "nbformat_minor": 4
}
